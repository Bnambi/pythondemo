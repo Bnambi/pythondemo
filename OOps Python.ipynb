{
 "cells": [
  {
   "cell_type": "code",
   "execution_count": 122,
   "id": "63e10258",
   "metadata": {},
   "outputs": [],
   "source": [
    "class bird():\n",
    "    birds='all birds'\n",
    "    def __init__(self,name,age):\n",
    "        self.name=name\n",
    "        self.age=age\n",
    "        \n",
    "    def sing(self,song):\n",
    "        songs= \"{} is singing {}\".format(self.name,song)\n",
    "        return songs\n",
    "        \n",
    "    def dance(self):\n",
    "        dance1=\"{} is dancing with age {}\".format(self.name,self.age)\n",
    "        return dance1\n",
    "    \n",
    "\n",
    "        \n",
    "        \n",
    "            "
   ]
  },
  {
   "cell_type": "code",
   "execution_count": null,
   "id": "bc5ecf8a",
   "metadata": {},
   "outputs": [],
   "source": []
  },
  {
   "cell_type": "code",
   "execution_count": 203,
   "id": "9b2b9043",
   "metadata": {},
   "outputs": [],
   "source": [
    "class peacock(bird):\n",
    "    def __init__(self,name,age,color):\n",
    "        \n",
    "        super().__init__(name,age)\n",
    "        self.color=color\n",
    "                         \n",
    "        \n",
    "    def walk(self,style):\n",
    "        return \"{} with {} color run {}\".format(self.name,self.color,style)\n",
    "    \n",
    "    "
   ]
  },
  {
   "cell_type": "code",
   "execution_count": 204,
   "id": "a394258d",
   "metadata": {},
   "outputs": [],
   "source": [
    "c=peacock(\"sundari\",5,\"red\")"
   ]
  },
  {
   "cell_type": "code",
   "execution_count": 208,
   "id": "a3d285d7",
   "metadata": {},
   "outputs": [
    {
     "name": "stdout",
     "output_type": "stream",
     "text": [
      "sundari is dancing with age 5\n",
      "sundari with red color run slow\n"
     ]
    }
   ],
   "source": [
    "print(c.dance())\n",
    "print(c.walk(\"slow\"))"
   ]
  },
  {
   "cell_type": "code",
   "execution_count": 244,
   "id": "2f15995f",
   "metadata": {},
   "outputs": [],
   "source": [
    "class KFC():\n",
    "    def __init__(self):\n",
    "        self.__zinger='burger'\n",
    "    \n",
    "    def get1(self):\n",
    "        return \"{}\".format(self.__zinger)\n",
    "    \n",
    "    def set1(self,value):\n",
    "        self.__zinger=value \n",
    "        return \"{} is new nurger\".format(self.__zinger)\n",
    "    \n",
    "    def dele(self):\n",
    "        del self.__zinger\n",
    "    \n",
    "\n",
    "    \n",
    "        "
   ]
  },
  {
   "cell_type": "code",
   "execution_count": 245,
   "id": "ba445302",
   "metadata": {},
   "outputs": [],
   "source": [
    "a=KFC()"
   ]
  },
  {
   "cell_type": "code",
   "execution_count": 246,
   "id": "ad29bb8a",
   "metadata": {},
   "outputs": [
    {
     "data": {
      "text/plain": [
       "'burger'"
      ]
     },
     "execution_count": 246,
     "metadata": {},
     "output_type": "execute_result"
    }
   ],
   "source": [
    "a.get1()"
   ]
  },
  {
   "cell_type": "code",
   "execution_count": 247,
   "id": "8a2c9a54",
   "metadata": {},
   "outputs": [
    {
     "data": {
      "text/plain": [
       "'double cheese is new nurger'"
      ]
     },
     "execution_count": 247,
     "metadata": {},
     "output_type": "execute_result"
    }
   ],
   "source": [
    "a.set1(\"double cheese\")"
   ]
  },
  {
   "cell_type": "code",
   "execution_count": 250,
   "id": "d4d90f03",
   "metadata": {},
   "outputs": [
    {
     "ename": "AttributeError",
     "evalue": "'KFC' object has no attribute '_KFC__zinger'",
     "output_type": "error",
     "traceback": [
      "\u001b[1;31m---------------------------------------------------------------------------\u001b[0m",
      "\u001b[1;31mAttributeError\u001b[0m                            Traceback (most recent call last)",
      "\u001b[1;32m<ipython-input-250-1d853c84bcc8>\u001b[0m in \u001b[0;36m<module>\u001b[1;34m\u001b[0m\n\u001b[1;32m----> 1\u001b[1;33m \u001b[0ma\u001b[0m\u001b[1;33m.\u001b[0m\u001b[0mget1\u001b[0m\u001b[1;33m(\u001b[0m\u001b[1;33m)\u001b[0m\u001b[1;33m\u001b[0m\u001b[1;33m\u001b[0m\u001b[0m\n\u001b[0m",
      "\u001b[1;32m<ipython-input-244-1d08631bec32>\u001b[0m in \u001b[0;36mget1\u001b[1;34m(self)\u001b[0m\n\u001b[0;32m      4\u001b[0m \u001b[1;33m\u001b[0m\u001b[0m\n\u001b[0;32m      5\u001b[0m     \u001b[1;32mdef\u001b[0m \u001b[0mget1\u001b[0m\u001b[1;33m(\u001b[0m\u001b[0mself\u001b[0m\u001b[1;33m)\u001b[0m\u001b[1;33m:\u001b[0m\u001b[1;33m\u001b[0m\u001b[1;33m\u001b[0m\u001b[0m\n\u001b[1;32m----> 6\u001b[1;33m         \u001b[1;32mreturn\u001b[0m \u001b[1;34m\"{}\"\u001b[0m\u001b[1;33m.\u001b[0m\u001b[0mformat\u001b[0m\u001b[1;33m(\u001b[0m\u001b[0mself\u001b[0m\u001b[1;33m.\u001b[0m\u001b[0m__zinger\u001b[0m\u001b[1;33m)\u001b[0m\u001b[1;33m\u001b[0m\u001b[1;33m\u001b[0m\u001b[0m\n\u001b[0m\u001b[0;32m      7\u001b[0m \u001b[1;33m\u001b[0m\u001b[0m\n\u001b[0;32m      8\u001b[0m     \u001b[1;32mdef\u001b[0m \u001b[0mset1\u001b[0m\u001b[1;33m(\u001b[0m\u001b[0mself\u001b[0m\u001b[1;33m,\u001b[0m\u001b[0mvalue\u001b[0m\u001b[1;33m)\u001b[0m\u001b[1;33m:\u001b[0m\u001b[1;33m\u001b[0m\u001b[1;33m\u001b[0m\u001b[0m\n",
      "\u001b[1;31mAttributeError\u001b[0m: 'KFC' object has no attribute '_KFC__zinger'"
     ]
    }
   ],
   "source": [
    "a.get1()"
   ]
  },
  {
   "cell_type": "code",
   "execution_count": 249,
   "id": "ee253ecc",
   "metadata": {},
   "outputs": [],
   "source": [
    "a.dele()"
   ]
  },
  {
   "cell_type": "code",
   "execution_count": 2,
   "id": "2368f56a",
   "metadata": {},
   "outputs": [],
   "source": [
    "array = [0,1,2,3,4,5]"
   ]
  },
  {
   "cell_type": "code",
   "execution_count": 3,
   "id": "ec208ce9",
   "metadata": {},
   "outputs": [
    {
     "data": {
      "text/plain": [
       "6"
      ]
     },
     "execution_count": 3,
     "metadata": {},
     "output_type": "execute_result"
    }
   ],
   "source": [
    "len(array)"
   ]
  },
  {
   "cell_type": "code",
   "execution_count": 887,
   "id": "9b422176",
   "metadata": {},
   "outputs": [],
   "source": [
    "def test(s):\n",
    "    list=[]\n",
    "    fs=''\n",
    "    \n",
    "    for i in range(len(s)-1):\n",
    "        if s[i] not in fs:\n",
    "            fs=fs+s[i]\n",
    "            print(fs)\n",
    "    \n",
    "                \n",
    "        else:\n",
    "            list.append(fs)\n",
    "            fs=''\n",
    "            fs=fs+s[i]\n",
    "            list.append(fs)\n",
    "                \n",
    "       \n",
    "\n",
    "      \n",
    "    return list"
   ]
  },
  {
   "cell_type": "code",
   "execution_count": 888,
   "id": "0e85695a",
   "metadata": {},
   "outputs": [
    {
     "name": "stdout",
     "output_type": "stream",
     "text": [
      "a\n",
      "ab\n",
      "abc\n",
      "abcd\n",
      "abcdq\n",
      "abcdqw\n",
      "abcdqwe\n",
      "abcdqwer\n",
      "abcdqwert\n",
      "abcdqwerty\n"
     ]
    },
    {
     "data": {
      "text/plain": [
       "['abcdqwerty', 'e']"
      ]
     },
     "execution_count": 888,
     "metadata": {},
     "output_type": "execute_result"
    }
   ],
   "source": [
    "test('abcdqwertyef')"
   ]
  },
  {
   "cell_type": "code",
   "execution_count": 280,
   "id": "bade683a",
   "metadata": {},
   "outputs": [
    {
     "name": "stdout",
     "output_type": "stream",
     "text": [
      "1\n"
     ]
    }
   ],
   "source": [
    "print(13//10)"
   ]
  },
  {
   "cell_type": "code",
   "execution_count": 305,
   "id": "85821820",
   "metadata": {},
   "outputs": [],
   "source": [
    "def reverse(x):\n",
    "    r=0\n",
    "    flag =0\n",
    "    if (x<0):\n",
    "        x=x*-1\n",
    "        flag = 1\n",
    "    else:\n",
    "        pass\n",
    "        \n",
    "    while(x!=0):\n",
    "        m= x%10\n",
    "        r=(r*10)+m\n",
    "        x=x//10\n",
    "    if flag == 0:\n",
    "        return(r)\n",
    "    else: return(-1*r)"
   ]
  },
  {
   "cell_type": "code",
   "execution_count": 306,
   "id": "ad91929e",
   "metadata": {},
   "outputs": [
    {
     "data": {
      "text/plain": [
       "-854321"
      ]
     },
     "execution_count": 306,
     "metadata": {},
     "output_type": "execute_result"
    }
   ],
   "source": [
    "reverse(-123458)"
   ]
  },
  {
   "cell_type": "code",
   "execution_count": 318,
   "id": "eb581df7",
   "metadata": {},
   "outputs": [],
   "source": [
    "def reverse(x):\n",
    "    r=0\n",
    "    flag=0\n",
    "    if x<0:\n",
    "        x=-x\n",
    "        flag=1\n",
    "\n",
    "    while(x!=0):\n",
    "        m= x%10\n",
    "        r=(r*10)+m\n",
    "        x=x//10\n",
    "        \n",
    "    if r not in range(-2**31,2**31):  \n",
    "        return 0\n",
    "    if flag==0:\n",
    "        return r\n",
    "    else:\n",
    "        return(-r)\n",
    "\n",
    "    \n",
    "    \n",
    "    \n",
    "    \n",
    "    "
   ]
  },
  {
   "cell_type": "code",
   "execution_count": 323,
   "id": "44cb4315",
   "metadata": {},
   "outputs": [],
   "source": [
    "i=-12312344445\n",
    "if i in range(-2**31,2**31):\n",
    "    print ('Yes')\n"
   ]
  },
  {
   "cell_type": "code",
   "execution_count": 319,
   "id": "203f05d6",
   "metadata": {},
   "outputs": [
    {
     "data": {
      "text/plain": [
       "-54321"
      ]
     },
     "execution_count": 319,
     "metadata": {},
     "output_type": "execute_result"
    }
   ],
   "source": [
    "[-231, 231 - 1]\n",
    "reverse(-12345)"
   ]
  },
  {
   "cell_type": "code",
   "execution_count": 359,
   "id": "3871f1b4",
   "metadata": {},
   "outputs": [],
   "source": [
    "\n",
    "def funct(s):\n",
    "    str1=''\n",
    "    str2=''\n",
    "    for i in s:\n",
    "        if i.isalpha():\n",
    "            str1=str1+i\n",
    "            str2=str1[::-1]\n",
    "    print(str1)\n",
    "    print(str2)\n",
    "    if str1.lower()==str2.lower():\n",
    "        return True\n",
    "    else:\n",
    "        return False\n",
    "        "
   ]
  },
  {
   "cell_type": "code",
   "execution_count": 362,
   "id": "ad934cec",
   "metadata": {},
   "outputs": [
    {
     "name": "stdout",
     "output_type": "stream",
     "text": [
      "raceacar\n",
      "racaecar\n"
     ]
    },
    {
     "data": {
      "text/plain": [
       "False"
      ]
     },
     "execution_count": 362,
     "metadata": {},
     "output_type": "execute_result"
    }
   ],
   "source": [
    "funct('race a car')\n",
    "\n"
   ]
  },
  {
   "cell_type": "code",
   "execution_count": 889,
   "id": "13f7383f",
   "metadata": {},
   "outputs": [
    {
     "name": "stdout",
     "output_type": "stream",
     "text": [
      "['c', 'b']\n",
      "acb\n",
      "bca\n",
      "No\n"
     ]
    }
   ],
   "source": [
    "s1='abca'\n",
    "s2=s1[::-1]\n",
    "s2='acba'\n",
    "s3=''\n",
    "s4=''\n",
    "l=[]\n",
    "for i in range(len(s2)):\n",
    "    if s2[i]!=s1[i]:\n",
    "        l.append(s2[i])\n",
    "    s3=s2[:i]+s2[(i+1):]\n",
    "    s4=s3[::-1]\n",
    "print(l)\n",
    "print(s3)\n",
    "print(s4)\n",
    "if len(l)>1:\n",
    "    if s3==s4:\n",
    "        print('pal')\n",
    "    else:\n",
    "        print('No')\n",
    "        \n",
    "        \n",
    "        "
   ]
  },
  {
   "cell_type": "code",
   "execution_count": 890,
   "id": "b37bac11",
   "metadata": {},
   "outputs": [
    {
     "ename": "SyntaxError",
     "evalue": "invalid syntax (<ipython-input-890-3f99ccf92e2d>, line 2)",
     "output_type": "error",
     "traceback": [
      "\u001b[1;36m  File \u001b[1;32m\"<ipython-input-890-3f99ccf92e2d>\"\u001b[1;36m, line \u001b[1;32m2\u001b[0m\n\u001b[1;33m    if a=a[::-1]:\u001b[0m\n\u001b[1;37m        ^\u001b[0m\n\u001b[1;31mSyntaxError\u001b[0m\u001b[1;31m:\u001b[0m invalid syntax\n"
     ]
    }
   ],
   "source": [
    "a='aba'\n",
    "if a=a[::-1]:\n",
    "    print('t')"
   ]
  },
  {
   "cell_type": "code",
   "execution_count": 426,
   "id": "252a373b",
   "metadata": {},
   "outputs": [],
   "source": [
    "def validPalindrome(s):\n",
    "    flag=0\n",
    "    for i in range(len(s)):\n",
    "        t = s[:i]+s[i+1:]\n",
    "        \n",
    "        if t==t[::-1]:\n",
    "            flag=1\n",
    "            break\n",
    "            print(t)\n",
    "        else:\n",
    "            flag=0\n",
    "            \n",
    "    if flag==1:\n",
    "        return True\n",
    "    else:\n",
    "        return False\n",
    "            \n",
    "    "
   ]
  },
  {
   "cell_type": "code",
   "execution_count": 427,
   "id": "2d844497",
   "metadata": {},
   "outputs": [
    {
     "data": {
      "text/plain": [
       "True"
      ]
     },
     "execution_count": 427,
     "metadata": {},
     "output_type": "execute_result"
    }
   ],
   "source": [
    "validPalindrome('abca')"
   ]
  },
  {
   "cell_type": "code",
   "execution_count": 432,
   "id": "48c6878e",
   "metadata": {},
   "outputs": [],
   "source": [
    "def validPalindrome(s):\n",
    "    flag=0\n",
    "    for i in range(len(s)):\n",
    "        t=s[:i]+s[i+1:]\n",
    "        if(t==t[::-1]):\n",
    "            flag=1\n",
    "            break\n",
    "\n",
    "        else:\n",
    "            flag=0\n",
    "    if flag==1:\n",
    "        return True\n",
    "    else:\n",
    "        return False\n",
    "        "
   ]
  },
  {
   "cell_type": "code",
   "execution_count": 433,
   "id": "582af586",
   "metadata": {},
   "outputs": [
    {
     "data": {
      "text/plain": [
       "False"
      ]
     },
     "execution_count": 433,
     "metadata": {},
     "output_type": "execute_result"
    }
   ],
   "source": [
    "validPalindrome('bhav')"
   ]
  },
  {
   "cell_type": "code",
   "execution_count": 536,
   "id": "b86b750d",
   "metadata": {},
   "outputs": [],
   "source": [
    "def prime(n):\n",
    "    flag=0\n",
    "    if n==1:\n",
    "        return ('np')\n",
    "    elif n==0:\n",
    "        return ('np')\n",
    "    for i in range(2,n):\n",
    "        if n%i==0:\n",
    "            flag=1\n",
    "            break\n",
    "        else:\n",
    "            flag=0\n",
    "    if flag==1:\n",
    "        return('non')\n",
    "    else:\n",
    "        return ('prime')\n",
    "    \n",
    "        "
   ]
  },
  {
   "cell_type": "code",
   "execution_count": 565,
   "id": "1a401b10",
   "metadata": {},
   "outputs": [
    {
     "name": "stdout",
     "output_type": "stream",
     "text": [
      "2\n"
     ]
    }
   ],
   "source": [
    "for i in range(2,2):\n",
    "    print (i)"
   ]
  },
  {
   "cell_type": "code",
   "execution_count": 542,
   "id": "ba8c8fce",
   "metadata": {},
   "outputs": [
    {
     "name": "stdout",
     "output_type": "stream",
     "text": [
      "np\n",
      "np\n",
      "prime\n",
      "prime\n",
      "non\n",
      "prime\n",
      "non\n",
      "prime\n",
      "non\n",
      "non\n",
      "non\n",
      "prime\n",
      "non\n"
     ]
    }
   ],
   "source": [
    "for i in range(0,13):\n",
    "    print(prime(i))"
   ]
  },
  {
   "cell_type": "code",
   "execution_count": 545,
   "id": "9ca3af6f",
   "metadata": {},
   "outputs": [],
   "source": [
    "def pprime(n):\n",
    "    l=[]\n",
    "    for i in range(n):\n",
    "        if prime(i) == 'prime':\n",
    "            l.append(i)\n",
    "    return l        \n",
    "            "
   ]
  },
  {
   "cell_type": "code",
   "execution_count": 546,
   "id": "c6d836a3",
   "metadata": {},
   "outputs": [
    {
     "data": {
      "text/plain": [
       "[2, 3, 5, 7, 11]"
      ]
     },
     "execution_count": 546,
     "metadata": {},
     "output_type": "execute_result"
    }
   ],
   "source": [
    "pprime(13)"
   ]
  },
  {
   "cell_type": "code",
   "execution_count": 578,
   "id": "dd41095b",
   "metadata": {},
   "outputs": [],
   "source": [
    "def prime(n):\n",
    "    l=[]\n",
    "    for i in range(n):\n",
    "        if i>=2:\n",
    "            for j in range(2,i):\n",
    "                if i%j==0:\n",
    "                    break\n",
    "            else:\n",
    "                l.append(i)\n",
    "    return(l)            \n",
    "                "
   ]
  },
  {
   "cell_type": "code",
   "execution_count": 579,
   "id": "30b8a4c7",
   "metadata": {},
   "outputs": [
    {
     "data": {
      "text/plain": [
       "[2, 3, 5, 7]"
      ]
     },
     "execution_count": 579,
     "metadata": {},
     "output_type": "execute_result"
    }
   ],
   "source": [
    "prime(10)"
   ]
  },
  {
   "cell_type": "code",
   "execution_count": 556,
   "id": "6d15ae47",
   "metadata": {},
   "outputs": [
    {
     "name": "stdout",
     "output_type": "stream",
     "text": [
      "2\n"
     ]
    }
   ],
   "source": [
    "for i in range(2,3):\n",
    "    print(i)"
   ]
  },
  {
   "cell_type": "code",
   "execution_count": 566,
   "id": "b806256b",
   "metadata": {},
   "outputs": [
    {
     "data": {
      "text/plain": [
       "[2, 3, 5]"
      ]
     },
     "execution_count": 566,
     "metadata": {},
     "output_type": "execute_result"
    }
   ],
   "source": [
    "def solution(n):\n",
    "    prime_nums = []\n",
    "    for num in range(n):\n",
    "        if num > 1: # all prime numbers are greater than 1\n",
    "            for i in range(2, num):\n",
    "                if (num % i) == 0: # if the modulus == 0 is means that the number can be divided by a number preceding it\n",
    "                    break\n",
    "            else:\n",
    "                prime_nums.append(num)\n",
    "    return prime_nums\n",
    "solution(n)"
   ]
  },
  {
   "cell_type": "code",
   "execution_count": 670,
   "id": "82f91018",
   "metadata": {},
   "outputs": [
    {
     "name": "stdout",
     "output_type": "stream",
     "text": [
      "['We', 'are', 'pleased', 'to', 'meet', 'you', 'in', 'our', 'The', 'was', 'hit', 'by', 'a', 'heavy', 'storm']\n",
      "['really', 'city']\n"
     ]
    }
   ],
   "source": [
    "sentence1 = 'We are really pleased to meet you in our city'\n",
    "sentence2 = 'The city was hit by a really heavy storm'\n",
    "s1=sentence1.split(' ')\n",
    "s2=sentence2.split(' ')\n",
    "print([i for i in s1 if i not in s2]+[i for i in s2 if i not in s1])\n",
    "print([i for i in s1 if i in s2])\n"
   ]
  },
  {
   "cell_type": "code",
   "execution_count": 664,
   "id": "581ea37d",
   "metadata": {},
   "outputs": [
    {
     "data": {
      "text/plain": [
       "{'city', 'really'}"
      ]
     },
     "execution_count": 664,
     "metadata": {},
     "output_type": "execute_result"
    }
   ],
   "source": [
    "sa= set(s1).intersection(set(s2))\n"
   ]
  },
  {
   "cell_type": "code",
   "execution_count": 669,
   "id": "1da147ee",
   "metadata": {},
   "outputs": [
    {
     "data": {
      "text/plain": [
       "{'The', 'a', 'by', 'city', 'heavy', 'hit', 'really', 'storm', 'was'}"
      ]
     },
     "execution_count": 669,
     "metadata": {},
     "output_type": "execute_result"
    }
   ],
   "source": []
  },
  {
   "cell_type": "code",
   "execution_count": 703,
   "id": "69a51115",
   "metadata": {},
   "outputs": [
    {
     "name": "stdout",
     "output_type": "stream",
     "text": [
      "[1, 1, 2, 3, 4, 4, 5, 5, 5]\n"
     ]
    }
   ],
   "source": [
    "ar = [1,None,2,3,4,None,5,None,None]\n",
    "l=[]\n",
    "next=''\n",
    "for i in ar:\n",
    "    if i is not None:\n",
    "        l.append(i)\n",
    "        next=i\n",
    "    else:\n",
    "        l.append(next)\n",
    "        \n",
    "print(l)\n",
    "        \n",
    "    \n",
    "\n",
    "    \n",
    "    "
   ]
  },
  {
   "cell_type": "code",
   "execution_count": 697,
   "id": "4f8fe71b",
   "metadata": {},
   "outputs": [
    {
     "data": {
      "text/plain": [
       "[1, 1, 2, 3, 3, 3, 5, 5]"
      ]
     },
     "execution_count": 697,
     "metadata": {},
     "output_type": "execute_result"
    }
   ],
   "source": [
    "solution ([1,None,2,3,None,None,5,None])"
   ]
  },
  {
   "cell_type": "code",
   "execution_count": 705,
   "id": "e20e8e99",
   "metadata": {},
   "outputs": [
    {
     "name": "stdout",
     "output_type": "stream",
     "text": [
      "[2, 3, 9, 0, 0, 0]\n"
     ]
    }
   ],
   "source": [
    "nums=[0,2,3,0,0,9]\n",
    "l=[]\n",
    "l2=[]\n",
    "for i in nums:\n",
    "    if i ==0:\n",
    "        l.append(i)\n",
    "    else:\n",
    "        l2.append(i)\n",
    "\n",
    "l2=l2+l\n",
    "print(l2)"
   ]
  },
  {
   "cell_type": "code",
   "execution_count": 718,
   "id": "8dc8d5cc",
   "metadata": {},
   "outputs": [
    {
     "data": {
      "text/plain": [
       "True"
      ]
     },
     "execution_count": 718,
     "metadata": {},
     "output_type": "execute_result"
    }
   ],
   "source": [
    "#all( str(i).isnumeric() for i in nums)\n",
    "num=[4,3,3,2]\n",
    "(all(num[i]>=num[i+1] for i in range(len(num)-1))  or\n",
    "all(num[i]<=num[i+1] for i in range (len(num)-1)))\n",
    "        \n",
    "        "
   ]
  },
  {
   "cell_type": "code",
   "execution_count": 723,
   "id": "5479dffb",
   "metadata": {},
   "outputs": [
    {
     "name": "stdout",
     "output_type": "stream",
     "text": [
      "['Hi all, my name is Tom...I am originally from Australia.']\n"
     ]
    }
   ],
   "source": [
    "sentence1 = \"Hi all, my name is Tom...I am originally from Australia.\"\n",
    "print(sentence1.split())\n",
    "\n"
   ]
  },
  {
   "cell_type": "code",
   "execution_count": 823,
   "id": "13c6d4ae",
   "metadata": {},
   "outputs": [
    {
     "name": "stdout",
     "output_type": "stream",
     "text": [
      "13\n",
      "4.076923076923077\n"
     ]
    }
   ],
   "source": [
    "\n",
    "sentence1 = \"I need to work very hard to learn more about algorithms in Python!\"\n",
    "punctuations = '''!()-[]{};:'\"\\,<>./?@#$%^&*_~'''\n",
    "char=''\n",
    "l=[]\n",
    "s=''\n",
    "for i in sentence1:\n",
    "    if i not in punctuations:\n",
    "        char=char+i\n",
    "\n",
    "for i in char:\n",
    "    if i!=' ':\n",
    "        s=s+i\n",
    "total_len=len(s)\n",
    "print(len(char.split()))\n",
    "avarge= total_len/len(char.split())\n",
    "print(avarge)\n",
    "#print(sum([len(i) for i in char.split()])/len(char.split()))\n",
    "        \n"
   ]
  },
  {
   "cell_type": "code",
   "execution_count": 818,
   "id": "19760ceb",
   "metadata": {},
   "outputs": [
    {
     "data": {
      "text/plain": [
       "'char.replace(\" \",\"\")\\nprint(len(char))\\ncharlist=char.split(\\' \\')\\nprint(charlist)\\nlen(charlist)\\navarage_len=total_len/(len(charlist))\\nprint(avarage_len)\\n'"
      ]
     },
     "execution_count": 818,
     "metadata": {},
     "output_type": "execute_result"
    }
   ],
   "source": [
    "'''char.replace(\" \",\"\")\n",
    "print(len(char))\n",
    "charlist=char.split(' ')\n",
    "print(charlist)\n",
    "len(charlist)\n",
    "avarage_len=total_len/(len(charlist))\n",
    "print(avarage_len)\n",
    "'''"
   ]
  },
  {
   "cell_type": "code",
   "execution_count": 766,
   "id": "539f761a",
   "metadata": {},
   "outputs": [
    {
     "data": {
      "text/plain": [
       "'HiallmynameisTomIamoriginallyfromAustralia'"
      ]
     },
     "execution_count": 766,
     "metadata": {},
     "output_type": "execute_result"
    }
   ],
   "source": [
    "char='Hi all my name is TomI am originally from Australia'\n",
    "char.replace(\" \",\"\")"
   ]
  },
  {
   "cell_type": "code",
   "execution_count": 853,
   "id": "1ec5bc09",
   "metadata": {},
   "outputs": [
    {
     "name": "stdout",
     "output_type": "stream",
     "text": [
      "68\n"
     ]
    }
   ],
   "source": [
    "sentence1 = \"I need to work very hard, to learn. more about algorithms in Python!\"\n",
    "print(len(sentence1))\n",
    "s = sentence1.split()\n",
    "s = [ type(i) for i in sentence1.split() ]"
   ]
  },
  {
   "cell_type": "code",
   "execution_count": 856,
   "id": "5f2e4585",
   "metadata": {},
   "outputs": [
    {
     "data": {
      "text/plain": [
       "53"
      ]
     },
     "execution_count": 856,
     "metadata": {},
     "output_type": "execute_result"
    }
   ],
   "source": [
    "s = ''\n",
    "for i in sentence1.split():\n",
    "    for j in i:\n",
    "        if j.isalpha():\n",
    "            s+=j\n",
    "len(s)            "
   ]
  },
  {
   "cell_type": "code",
   "execution_count": 848,
   "id": "45a36e2c",
   "metadata": {},
   "outputs": [
    {
     "data": {
      "text/plain": [
       "'IneedtoworkveryhardtolearnmoreaboutalgorithmsinPython'"
      ]
     },
     "execution_count": 848,
     "metadata": {},
     "output_type": "execute_result"
    }
   ],
   "source": [
    "s"
   ]
  },
  {
   "cell_type": "code",
   "execution_count": 857,
   "id": "af7233e9",
   "metadata": {},
   "outputs": [
    {
     "name": "stdout",
     "output_type": "stream",
     "text": [
      "<class 'dict'>\n"
     ]
    }
   ],
   "source": [
    "dict={1:'bhavana', 2:'arun'}\n",
    "print(type(dict))"
   ]
  },
  {
   "cell_type": "code",
   "execution_count": 866,
   "id": "f95a655c",
   "metadata": {},
   "outputs": [
    {
     "name": "stdout",
     "output_type": "stream",
     "text": [
      "bhavana\n"
     ]
    }
   ],
   "source": [
    "print(dict.get(1))"
   ]
  },
  {
   "cell_type": "code",
   "execution_count": 870,
   "id": "e2d7f0dd",
   "metadata": {},
   "outputs": [
    {
     "ename": "AttributeError",
     "evalue": "'int' object has no attribute 'value'",
     "output_type": "error",
     "traceback": [
      "\u001b[1;31m---------------------------------------------------------------------------\u001b[0m",
      "\u001b[1;31mAttributeError\u001b[0m                            Traceback (most recent call last)",
      "\u001b[1;32m<ipython-input-870-0b95acbb504a>\u001b[0m in \u001b[0;36m<module>\u001b[1;34m\u001b[0m\n\u001b[0;32m      1\u001b[0m \u001b[1;32mfor\u001b[0m \u001b[0mkey\u001b[0m \u001b[1;32min\u001b[0m \u001b[0mdict\u001b[0m\u001b[1;33m:\u001b[0m\u001b[1;33m\u001b[0m\u001b[1;33m\u001b[0m\u001b[0m\n\u001b[1;32m----> 2\u001b[1;33m     \u001b[0mprint\u001b[0m\u001b[1;33m(\u001b[0m\u001b[0mkey\u001b[0m\u001b[1;33m.\u001b[0m\u001b[0mvalue\u001b[0m\u001b[1;33m(\u001b[0m\u001b[1;33m)\u001b[0m\u001b[1;33m)\u001b[0m\u001b[1;33m\u001b[0m\u001b[1;33m\u001b[0m\u001b[0m\n\u001b[0m",
      "\u001b[1;31mAttributeError\u001b[0m: 'int' object has no attribute 'value'"
     ]
    }
   ],
   "source": [
    "for key in dict:\n",
    "    print(key.value())"
   ]
  },
  {
   "cell_type": "code",
   "execution_count": 871,
   "id": "43a2f6b4",
   "metadata": {},
   "outputs": [
    {
     "name": "stdout",
     "output_type": "stream",
     "text": [
      "1\n",
      "2\n"
     ]
    }
   ],
   "source": [
    "for value in dict:\n",
    "    print(value)"
   ]
  },
  {
   "cell_type": "code",
   "execution_count": 872,
   "id": "ab665094",
   "metadata": {},
   "outputs": [
    {
     "name": "stdout",
     "output_type": "stream",
     "text": [
      "arun\n"
     ]
    }
   ],
   "source": [
    "print(dict.get(2))"
   ]
  },
  {
   "cell_type": "code",
   "execution_count": 881,
   "id": "a2483e96",
   "metadata": {},
   "outputs": [
    {
     "ename": "TypeError",
     "evalue": "'list' object is not callable",
     "output_type": "error",
     "traceback": [
      "\u001b[1;31m---------------------------------------------------------------------------\u001b[0m",
      "\u001b[1;31mTypeError\u001b[0m                                 Traceback (most recent call last)",
      "\u001b[1;32m<ipython-input-881-64ab2d8dcde4>\u001b[0m in \u001b[0;36m<module>\u001b[1;34m\u001b[0m\n\u001b[0;32m      1\u001b[0m \u001b[0mlis\u001b[0m\u001b[1;33m=\u001b[0m\u001b[1;33m[\u001b[0m\u001b[1;36m13\u001b[0m\u001b[1;33m,\u001b[0m\u001b[1;36m90\u001b[0m\u001b[1;33m,\u001b[0m\u001b[1;36m17\u001b[0m\u001b[1;33m,\u001b[0m\u001b[1;36m59\u001b[0m\u001b[1;33m,\u001b[0m\u001b[1;36m21\u001b[0m\u001b[1;33m,\u001b[0m\u001b[1;36m60\u001b[0m\u001b[1;33m,\u001b[0m\u001b[1;36m5\u001b[0m\u001b[1;33m]\u001b[0m\u001b[1;33m\u001b[0m\u001b[1;33m\u001b[0m\u001b[0m\n\u001b[1;32m----> 2\u001b[1;33m \u001b[0madult\u001b[0m\u001b[1;33m=\u001b[0m\u001b[0mlist\u001b[0m\u001b[1;33m(\u001b[0m\u001b[0mfilter\u001b[0m\u001b[1;33m(\u001b[0m\u001b[1;32mlambda\u001b[0m \u001b[0mx\u001b[0m\u001b[1;33m:\u001b[0m \u001b[0mx\u001b[0m\u001b[1;33m>\u001b[0m\u001b[1;36m18\u001b[0m\u001b[1;33m,\u001b[0m\u001b[0mlis\u001b[0m\u001b[1;33m)\u001b[0m\u001b[1;33m)\u001b[0m\u001b[1;33m\u001b[0m\u001b[1;33m\u001b[0m\u001b[0m\n\u001b[0m\u001b[0;32m      3\u001b[0m \u001b[0mprint\u001b[0m\u001b[1;33m(\u001b[0m\u001b[0madult\u001b[0m\u001b[1;33m)\u001b[0m\u001b[1;33m\u001b[0m\u001b[1;33m\u001b[0m\u001b[0m\n",
      "\u001b[1;31mTypeError\u001b[0m: 'list' object is not callable"
     ]
    }
   ],
   "source": [
    "lis=[13,90,17,59,21,60,5]\n",
    "adult=list(filter(lambda x: x>18,lis))\n",
    "print(adult)"
   ]
  },
  {
   "cell_type": "code",
   "execution_count": null,
   "id": "68228109",
   "metadata": {},
   "outputs": [],
   "source": [
    "lambda x: x>18"
   ]
  },
  {
   "cell_type": "code",
   "execution_count": null,
   "id": "7e8659bb",
   "metadata": {},
   "outputs": [],
   "source": [
    "print()"
   ]
  },
  {
   "cell_type": "code",
   "execution_count": null,
   "id": "152796f6",
   "metadata": {},
   "outputs": [],
   "source": []
  }
 ],
 "metadata": {
  "kernelspec": {
   "display_name": "Python 3",
   "language": "python",
   "name": "python3"
  },
  "language_info": {
   "codemirror_mode": {
    "name": "ipython",
    "version": 3
   },
   "file_extension": ".py",
   "mimetype": "text/x-python",
   "name": "python",
   "nbconvert_exporter": "python",
   "pygments_lexer": "ipython3",
   "version": "3.8.8"
  }
 },
 "nbformat": 4,
 "nbformat_minor": 5
}
